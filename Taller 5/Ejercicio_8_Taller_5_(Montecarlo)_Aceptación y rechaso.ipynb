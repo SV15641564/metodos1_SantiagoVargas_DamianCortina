{
  "nbformat": 4,
  "nbformat_minor": 0,
  "metadata": {
    "colab": {
      "provenance": [],
      "collapsed_sections": []
    },
    "kernelspec": {
      "name": "python3",
      "display_name": "Python 3"
    },
    "language_info": {
      "name": "python"
    }
  },
  "cells": [
    {
      "cell_type": "code",
      "source": [
        "import numpy as np\n",
        "import matplotlib.pyplot as plt\n",
        "from tqdm import tqdm\n",
        "import sympy as sy"
      ],
      "metadata": {
        "id": "2zyAzCo8Diy1"
      },
      "execution_count": 1,
      "outputs": []
    },
    {
      "cell_type": "code",
      "source": [
        "N=10000000\n",
        "x = np.random.uniform(0,1, N)"
      ],
      "metadata": {
        "id": "sAvJDbsHEOC9"
      },
      "execution_count": null,
      "outputs": []
    },
    {
      "cell_type": "code",
      "source": [
        "def f(a, b, x):\n",
        "  return ((np.math.factorial((a+b)-1))/(np.math.factorial(a-1)*\\\n",
        "          np.math.factorial(b-1)))*(x**(a-1))*((1-x)**(b-1))"
      ],
      "metadata": {
        "id": "7dQ28OUHEdY1"
      },
      "execution_count": 4,
      "outputs": []
    },
    {
      "cell_type": "code",
      "source": [
        "#Para verificar que la función es correcta\n",
        "#Para alfa=2, beta=4, x=0.3 se espera 2.048\n",
        "f(2,4,0.2)"
      ],
      "metadata": {
        "colab": {
          "base_uri": "https://localhost:8080/"
        },
        "id": "ycpKRuSBFG-E",
        "outputId": "c1dea4ed-d7c0-4347-dbb2-9b2e1a32cc40"
      },
      "execution_count": 5,
      "outputs": [
        {
          "output_type": "execute_result",
          "data": {
            "text/plain": [
              "2.0480000000000005"
            ]
          },
          "metadata": {},
          "execution_count": 5
        }
      ]
    },
    {
      "cell_type": "code",
      "source": [
        "plt.scatter(x, f(2,4,x))"
      ],
      "metadata": {
        "colab": {
          "base_uri": "https://localhost:8080/",
          "height": 282
        },
        "id": "tMBa--_PHdtI",
        "outputId": "757d2796-8eb2-4e29-c6b5-d75f3a1a519e"
      },
      "execution_count": null,
      "outputs": [
        {
          "output_type": "execute_result",
          "data": {
            "text/plain": [
              "<matplotlib.collections.PathCollection at 0x7f4ac0bb6a10>"
            ]
          },
          "metadata": {},
          "execution_count": 50
        },
        {
          "output_type": "display_data",
          "data": {
            "text/plain": [
              "<Figure size 432x288 with 1 Axes>"
            ],
            "image/png": "[encoded data removed]"
          },
          "metadata": {
            "needs_background": "light"
          }
        }
      ]
    },
    {
      "cell_type": "code",
      "source": [
        "#Para calcular el máximo valor del rango\n",
        "def v_max(a,b):\n",
        "  return (a-1)/(a+b-2)\n",
        "\n",
        "def maximo(a,b):\n",
        "  return f(a,b,v_max(a,b))\n"
      ],
      "metadata": {
        "id": "pQkV8hXkIaD-"
      },
      "execution_count": null,
      "outputs": []
    },
    {
      "cell_type": "code",
      "source": [
        "maximo(2,4) #Se verificó que este valor fuese correcto"
      ],
      "metadata": {
        "id": "1SboeVJuJ04d",
        "colab": {
          "base_uri": "https://localhost:8080/"
        },
        "outputId": "896e0dd7-8e06-46f4-bb9d-f8a0ce88b45a"
      },
      "execution_count": null,
      "outputs": [
        {
          "output_type": "execute_result",
          "data": {
            "text/plain": [
              "2.109375"
            ]
          },
          "metadata": {},
          "execution_count": 57
        }
      ]
    },
    {
      "cell_type": "code",
      "source": [
        "lim_s=100\n",
        "y= np.random.uniform(0,lim_s,N)"
      ],
      "metadata": {
        "id": "2JdkpASEML1z"
      },
      "execution_count": null,
      "outputs": []
    },
    {
      "cell_type": "code",
      "source": [
        "a=2\n",
        "b=4\n",
        "\n",
        "Sample = np.zeros(len(y))\n",
        "incert=0.01\n",
        "\n",
        "for i in tqdm(range(0, len(y))):\n",
        "  if y[i]<= (f(a,b,x[i])*(1+incert)) or y[i]<= (f(a,b,x[i])*(1-incert)):\n",
        "    Sample[i]=y[i]"
      ],
      "metadata": {
        "id": "PmX7x8rPNiQp",
        "colab": {
          "base_uri": "https://localhost:8080/"
        },
        "outputId": "27f5e482-af22-4ddd-c822-7a1fe0b2354b"
      },
      "execution_count": null,
      "outputs": [
        {
          "output_type": "stream",
          "name": "stderr",
          "text": [
            "100%|██████████| 10000000/10000000 [00:48<00:00, 206738.78it/s]\n"
          ]
        }
      ]
    },
    {
      "cell_type": "code",
      "source": [
        "plt.scatter(x, Sample)"
      ],
      "metadata": {
        "id": "hn2pvf_vWjA1",
        "colab": {
          "base_uri": "https://localhost:8080/",
          "height": 282
        },
        "outputId": "9ef7ca67-a166-4aff-8570-9ae586fbec9b"
      },
      "execution_count": null,
      "outputs": [
        {
          "output_type": "execute_result",
          "data": {
            "text/plain": [
              "<matplotlib.collections.PathCollection at 0x7f4ac0b23c10>"
            ]
          },
          "metadata": {},
          "execution_count": 55
        },
        {
          "output_type": "display_data",
          "data": {
            "text/plain": [
              "<Figure size 432x288 with 1 Axes>"
            ],
            "image/png": "[encoded data removed]"
          },
          "metadata": {
            "needs_background": "light"
          }
        }
      ]
    },
    {
      "cell_type": "code",
      "source": [
        "#Integral con Monte Carlo\n",
        "puntos=np.count_nonzero(Sample)\n",
        "total=N\n",
        "area=(puntos/total)*lim_s\n",
        "print(\"El área bajo la curva es (aproximadamente):\", area)\n",
        "\n",
        "#Integral con SciPy\n",
        "x = sy.Symbol(\"x\")\n",
        "integral=sy.integrate(f(a, b, x), (x, 0, 1))\n",
        "print(\"El área bajo la curva es (exacta):\", integral)"
      ],
      "metadata": {
        "id": "7-85zIBKjkjx",
        "colab": {
          "base_uri": "https://localhost:8080/"
        },
        "outputId": "07356d5c-4e3a-4760-ae69-b9dc2e100964"
      },
      "execution_count": null,
      "outputs": [
        {
          "output_type": "stream",
          "name": "stdout",
          "text": [
            "El área bajo la curva es (aproximadamente): 1.00746\n",
            "El área bajo la curva es (exacta): 1.00000000000000\n"
          ]
        }
      ]
    },
    {
      "cell_type": "markdown",
      "source": [
        "Nótese que la incertidumbre de 1%, es decir, el valor de la integral aproximada por Monte Carlo (*método de aceptación y rechazo*)  $\\pm$ 0.01, abarca el valor exacto (1) para el $\\alpha$ (2) y $\\beta$ (4) dados. Otra forma de verlo es que el valor aproximado del área bajo la curva está entre 0.99 y 1.01. Cabe resaltar que esto puede variar para algunas iteraciones del programa, ya que depende del conjunto de valores pseudo-aleatorios y estos varían en cada ejecución."
      ],
      "metadata": {
        "id": "uwG4Px-Ts-Ms"
      }
    }
  ]
}