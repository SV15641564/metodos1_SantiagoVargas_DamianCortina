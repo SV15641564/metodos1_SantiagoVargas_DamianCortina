{
  "cells": [
    {
      "cell_type": "markdown",
      "id": "60a9e982",
      "metadata": {
        "id": "60a9e982"
      },
      "source": [
        "Newton\n"
      ]
    },
    {
      "cell_type": "code",
      "execution_count": 1,
      "id": "423d6f9a",
      "metadata": {
        "id": "423d6f9a"
      },
      "outputs": [],
      "source": [
        "import numpy as np\n",
        "import matplotlib.pyplot as plt"
      ]
    },
    {
      "cell_type": "markdown",
      "source": [
        "![Ec 3,50.PNG](data:image/png;base64,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)"
      ],
      "metadata": {
        "id": "PVWyMo6AISH9"
      },
      "id": "PVWyMo6AISH9"
    },
    {
      "cell_type": "code",
      "execution_count": 2,
      "id": "73ef503a",
      "metadata": {
        "id": "73ef503a"
      },
      "outputs": [],
      "source": [
        "# Se define el sistema en una tupla\n",
        "G=(lambda x,y: np.log10((x**2)+(y**2))-np.sin(x*y)-np.log10(2)-np.log10(np.pi), \\\n",
        "   lambda x,y: np.exp(x-y)+np.cos(x*y))"
      ]
    },
    {
      "cell_type": "code",
      "execution_count": 3,
      "id": "5a8ad72d",
      "metadata": {
        "colab": {
          "base_uri": "https://localhost:8080/"
        },
        "id": "5a8ad72d",
        "outputId": "a29ca095-e338-4209-b80e-74e784efee07"
      },
      "outputs": [
        {
          "output_type": "stream",
          "name": "stdout",
          "text": [
            "0.8617126139417567\n",
            "0.34635637913638806\n"
          ]
        }
      ],
      "source": [
        "for i in range(2):\n",
        "    print(G[i](2,2))"
      ]
    },
    {
      "cell_type": "code",
      "execution_count": 4,
      "id": "008b9679",
      "metadata": {
        "id": "008b9679"
      },
      "outputs": [],
      "source": [
        "def GetVectorF(G,r):\n",
        "    \n",
        "    dim = len(G)\n",
        "    \n",
        "    v = np.zeros(dim)\n",
        "    \n",
        "    for i in range(dim):\n",
        "        v[i] = G[i](r[0],r[1])\n",
        "        \n",
        "    return v"
      ]
    },
    {
      "cell_type": "code",
      "execution_count": 5,
      "id": "3cda7f0b",
      "metadata": {
        "colab": {
          "base_uri": "https://localhost:8080/"
        },
        "id": "3cda7f0b",
        "outputId": "dc60b7fc-3965-4501-b21f-ef582014693d"
      },
      "outputs": [
        {
          "output_type": "execute_result",
          "data": {
            "text/plain": [
              "array([0.86171261, 0.34635638])"
            ]
          },
          "metadata": {},
          "execution_count": 5
        }
      ],
      "source": [
        "GetVectorF(G,[2,2])"
      ]
    },
    {
      "cell_type": "code",
      "execution_count": 6,
      "id": "243cf2eb",
      "metadata": {
        "id": "243cf2eb"
      },
      "outputs": [],
      "source": [
        "def GetJacobian(G,r,h=1e-6):\n",
        "    \n",
        "    dim = len(G)\n",
        "    \n",
        "    J = np.zeros((dim,dim))\n",
        "    \n",
        "    for i in range(dim):\n",
        "        J[i,0] = (  G[i](r[0]+h,r[1]) - G[i](r[0]-h,r[1]) )/(2*h)\n",
        "        J[i,1] = (  G[i](r[0],r[1]+h) - G[i](r[0],r[1]-h) )/(2*h)\n",
        "        \n",
        "    return np.transpose(J)"
      ]
    },
    {
      "cell_type": "code",
      "execution_count": 7,
      "id": "1469c8cb",
      "metadata": {
        "colab": {
          "base_uri": "https://localhost:8080/"
        },
        "id": "1469c8cb",
        "outputId": "786e1320-f736-4590-e85b-e5016193cf22"
      },
      "outputs": [
        {
          "output_type": "execute_result",
          "data": {
            "text/plain": [
              "array([[1.52443448, 2.51360499],\n",
              "       [1.52443448, 0.51360499]])"
            ]
          },
          "metadata": {},
          "execution_count": 7
        }
      ],
      "source": [
        "GetJacobian(G,[2,2])"
      ]
    },
    {
      "cell_type": "code",
      "execution_count": 8,
      "id": "72a7d7fd",
      "metadata": {
        "id": "72a7d7fd"
      },
      "outputs": [],
      "source": [
        "def NewtonRaphson(G,r,error=1e-10):\n",
        "    \n",
        "    it = 0\n",
        "    d = 1\n",
        "    Vector_d = np.array([])\n",
        "    \n",
        "    while d > error:\n",
        "        \n",
        "        it += 1\n",
        "        \n",
        "        rc = r\n",
        "        \n",
        "        F = GetVectorF(G,r)\n",
        "        J = GetJacobian(G,r)\n",
        "        InvJ = np.linalg.inv(J)\n",
        "        \n",
        "        r = rc - np.dot( InvJ, F )\n",
        "        \n",
        "        diff = r - rc\n",
        "        print(diff)\n",
        "        \n",
        "        d = np.linalg.norm(diff)\n",
        "        \n",
        "        Vector_d = np.append( Vector_d , d )\n",
        "        \n",
        "    return r,it,Vector_d"
      ]
    },
    {
      "cell_type": "code",
      "execution_count": 9,
      "id": "f7d3f304",
      "metadata": {
        "colab": {
          "base_uri": "https://localhost:8080/"
        },
        "id": "f7d3f304",
        "outputId": "5d80baa8-4c74-45ef-987f-ce9ab6ea7f82"
      },
      "outputs": [
        {
          "output_type": "stream",
          "name": "stdout",
          "text": [
            "[-0.14038754 -0.25767812]\n",
            "[-0.05990333  0.00474771]\n",
            "[-0.01423362  0.02382817]\n",
            "[-0.00932383 -0.00410989]\n",
            "[-0.00132467  0.00663349]\n",
            "[-0.00200853 -0.00265623]\n",
            "[0.000157   0.00236033]\n",
            "[-0.00055755 -0.00127782]\n",
            "[0.00018049 0.00093282]\n",
            "[-0.00019013 -0.00056622]\n",
            "[9.46409851e-05 3.84710406e-04]\n",
            "[-7.32241147e-05 -2.43858152e-04]\n",
            "[4.29935708e-05 1.61305264e-04]\n",
            "[-2.98484682e-05 -1.03935196e-04]\n",
            "[1.86760019e-05 6.80601613e-05]\n",
            "[-1.24555780e-05 -4.41262568e-05]\n",
            "[7.98516564e-06 2.87852740e-05]\n",
            "[-5.24554077e-06 -1.87066006e-05]\n",
            "[3.39422291e-06 1.21853721e-05]\n",
            "[-2.21691092e-06 -7.92595722e-06]\n",
            "[1.43959127e-06 5.16007060e-06]\n",
            "[-9.38192796e-07 -3.35750766e-06]\n",
            "[6.10062276e-07 2.18539034e-06]\n",
            "[-3.97246632e-07 -1.42215640e-06]\n",
            "[2.58446115e-07 9.25601424e-07]\n",
            "[-1.68234271e-07 -6.02371368e-07]\n",
            "[1.09474349e-07 3.92037228e-07]\n",
            "[-7.12527966e-08 -2.55138575e-07]\n",
            "[4.63696783e-08 1.66048061e-07]\n",
            "[-3.01788174e-08 -1.08065219e-07]\n",
            "[1.96402845e-08 7.03301513e-08]\n",
            "[-1.27822564e-08 -4.57714822e-08]\n",
            "[8.31875524e-09 2.97885785e-08]\n",
            "[-5.41395706e-09 -1.93866925e-08]\n",
            "[3.52344665e-09 1.26170612e-08]\n",
            "[-2.29309904e-09 -8.21130786e-09]\n",
            "[1.49237023e-09 5.34400280e-09]\n",
            "[-9.71250413e-10 -3.47793061e-09]\n",
            "[6.32099262e-10 2.26347252e-09]\n",
            "[-4.11376710e-10 -1.47309076e-09]\n",
            "[2.67728062e-10 9.58702451e-10]\n",
            "[-1.74240178e-10 -6.23933127e-10]\n",
            "[1.13397292e-10 4.06061851e-10]\n",
            "[-7.38000772e-11 -2.64269051e-10]\n",
            "[4.80298024e-11 1.71988868e-10]\n",
            "[-3.12583293e-11 -1.11932241e-10]\n",
            "[2.03432826e-11 7.28468397e-11]\n"
          ]
        }
      ],
      "source": [
        "r,it,distancias = NewtonRaphson(G,[2,2])"
      ]
    },
    {
      "cell_type": "code",
      "execution_count": 10,
      "id": "0f12d20b",
      "metadata": {
        "colab": {
          "base_uri": "https://localhost:8080/",
          "height": 282
        },
        "id": "0f12d20b",
        "outputId": "5ef07e8f-b887-4a57-9a15-e3f6aa5f697b"
      },
      "outputs": [
        {
          "output_type": "execute_result",
          "data": {
            "text/plain": [
              "[<matplotlib.lines.Line2D at 0x7f4e6c0efb10>]"
            ]
          },
          "metadata": {},
          "execution_count": 10
        },
        {
          "output_type": "display_data",
          "data": {
            "text/plain": [
              "<Figure size 432x288 with 1 Axes>"
            ],
            "image/png": "[encoded data removed]"
          },
          "metadata": {
            "needs_background": "light"
          }
        }
      ],
      "source": [
        "plt.plot(distancias)"
      ]
    },
    {
      "cell_type": "code",
      "execution_count": 11,
      "id": "cd97e4fe",
      "metadata": {
        "colab": {
          "base_uri": "https://localhost:8080/"
        },
        "id": "cd97e4fe",
        "outputId": "d4fa930f-1542-45e5-ff8d-80e3961c0e16"
      },
      "outputs": [
        {
          "output_type": "stream",
          "name": "stdout",
          "text": [
            "[1.77245385 1.77245385]\n"
          ]
        }
      ],
      "source": [
        "print(r)"
      ]
    },
    {
      "cell_type": "markdown",
      "source": [
        "![Ec 3,51.PNG](data:image/png;base64,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)"
      ],
      "metadata": {
        "id": "b33TZVItGQtE"
      },
      "id": "b33TZVItGQtE"
    },
    {
      "cell_type": "code",
      "source": [
        "# Se define el sistema en una tupla\n",
        "G=(lambda x,y,z: 6*x-2*np.cos(y*z)-1, \\\n",
        "   lambda x,y,z: 9*y+np.sqrt((x**2)+np.sin(z)+1.06)+0.9, \\\n",
        "   lambda x,y,z: 60*z+3*np.exp(-x*y)+10*np.pi-3)"
      ],
      "metadata": {
        "id": "brNy5BwwIltH"
      },
      "id": "brNy5BwwIltH",
      "execution_count": 12,
      "outputs": []
    },
    {
      "cell_type": "code",
      "source": [
        "for i in range(3):\n",
        "    print(G[i](0,0,0))"
      ],
      "metadata": {
        "colab": {
          "base_uri": "https://localhost:8080/"
        },
        "id": "DDMpbwWpI5ff",
        "outputId": "2ef1c67e-cf2e-46ac-ad7e-993749991960"
      },
      "id": "DDMpbwWpI5ff",
      "execution_count": 13,
      "outputs": [
        {
          "output_type": "stream",
          "name": "stdout",
          "text": [
            "-3.0\n",
            "1.9295630140987\n",
            "31.41592653589793\n"
          ]
        }
      ]
    },
    {
      "cell_type": "code",
      "source": [
        "def GetVectorF(G,r):\n",
        "    \n",
        "    dim = len(G)\n",
        "    \n",
        "    v = np.zeros(dim)\n",
        "    \n",
        "    for i in range(dim):\n",
        "        v[i] = G[i](r[0],r[1],r[2])\n",
        "        \n",
        "    return v"
      ],
      "metadata": {
        "id": "V6rxtowJI9YB"
      },
      "id": "V6rxtowJI9YB",
      "execution_count": 14,
      "outputs": []
    },
    {
      "cell_type": "code",
      "source": [
        "GetVectorF(G,[0,0,0])"
      ],
      "metadata": {
        "colab": {
          "base_uri": "https://localhost:8080/"
        },
        "id": "qRYpJquDI_VU",
        "outputId": "0c58649b-28e5-4e3c-b0b5-3e95a73896b9"
      },
      "id": "qRYpJquDI_VU",
      "execution_count": 15,
      "outputs": [
        {
          "output_type": "execute_result",
          "data": {
            "text/plain": [
              "array([-3.        ,  1.92956301, 31.41592654])"
            ]
          },
          "metadata": {},
          "execution_count": 15
        }
      ]
    },
    {
      "cell_type": "code",
      "source": [
        "def GetJacobian(G,r,h=1e-6):\n",
        "    \n",
        "    dim = len(G)\n",
        "    \n",
        "    J = np.zeros((dim,dim))\n",
        "    \n",
        "    for i in range(dim):\n",
        "        J[i,0] = (  G[i](r[0]+h,r[1],r[2]) - G[i](r[0]-h,r[1],r[2]) )/(2*h)\n",
        "        J[i,1] = (  G[i](r[0],r[1]+h,r[2]) - G[i](r[0],r[1]-h,r[2]) )/(2*h)\n",
        "        J[i,2] = (  G[i](r[0],r[1],r[2]+h) - G[i](r[0],r[1],r[2]-h) )/(2*h)\n",
        "        \n",
        "    return J.T"
      ],
      "metadata": {
        "id": "6fhttgAiJBii"
      },
      "id": "6fhttgAiJBii",
      "execution_count": 16,
      "outputs": []
    },
    {
      "cell_type": "code",
      "source": [
        "GetJacobian(G,[0,1,-1])"
      ],
      "metadata": {
        "colab": {
          "base_uri": "https://localhost:8080/"
        },
        "id": "LIlmVB24JDj9",
        "outputId": "074b2f98-47cc-499a-9d58-12503769576e"
      },
      "id": "LIlmVB24JDj9",
      "execution_count": 17,
      "outputs": [
        {
          "output_type": "execute_result",
          "data": {
            "text/plain": [
              "array([[ 6.        ,  0.        , -3.        ],\n",
              "       [ 1.68294197,  9.        ,  0.        ],\n",
              "       [-1.68294197,  0.57789944, 60.        ]])"
            ]
          },
          "metadata": {},
          "execution_count": 17
        }
      ]
    },
    {
      "cell_type": "code",
      "source": [
        "def NewtonRaphson(G,r,error=1e-10):\n",
        "    \n",
        "    it = 0\n",
        "    d = 1\n",
        "    Vector_d = np.array([])\n",
        "    \n",
        "    while d > error:\n",
        "        \n",
        "        it += 1\n",
        "        \n",
        "        rc = r\n",
        "        \n",
        "        F = GetVectorF(G,r)\n",
        "        J = GetJacobian(G,r)\n",
        "        InvJ = np.linalg.inv(J)\n",
        "        \n",
        "        r = rc - np.dot( InvJ, F )\n",
        "        \n",
        "        diff = r - rc\n",
        "        print(diff)\n",
        "        \n",
        "        d = np.linalg.norm(diff)\n",
        "        \n",
        "        Vector_d = np.append( Vector_d , d )\n",
        "        \n",
        "    return r,it,Vector_d"
      ],
      "metadata": {
        "id": "oQ0iSbKDJF6M"
      },
      "id": "oQ0iSbKDJF6M",
      "execution_count": 18,
      "outputs": []
    },
    {
      "cell_type": "code",
      "source": [
        "r,it,distancias = NewtonRaphson(G,[0,0,0])"
      ],
      "metadata": {
        "colab": {
          "base_uri": "https://localhost:8080/"
        },
        "id": "QAVmwEscJGzp",
        "outputId": "bd6cf6fc-8dc0-4127-fef5-386284930856"
      },
      "id": "QAVmwEscJGzp",
      "execution_count": 19,
      "outputs": [
        {
          "output_type": "stream",
          "name": "stdout",
          "text": [
            "[ 0.5        -0.21439589 -0.52186344]\n",
            "[-0.00238106  0.01288117 -0.00749826]\n",
            "[0.00024297 0.00205967 0.00047268]\n",
            "[ 2.87757327e-04 -1.13360672e-04  7.14204832e-05]\n",
            "[ 2.08603051e-07 -3.95328587e-05 -7.08199208e-06]\n",
            "[-5.19275201e-06  1.33730455e-06 -1.42170847e-06]\n",
            "[-9.77612319e-08  7.39309225e-07  1.02405968e-07]\n",
            "[ 9.21706162e-08 -1.08171067e-08  2.75706463e-08]\n",
            "[ 3.43583895e-09 -1.35697276e-08 -1.35376188e-09]\n",
            "[-1.60520347e-09 -4.97944741e-11 -5.23240118e-10]\n",
            "[-9.11919984e-11  2.44574361e-10  1.50240931e-11]\n",
            "[2.73883694e-11 5.32510147e-12 9.73710002e-12]\n"
          ]
        }
      ]
    },
    {
      "cell_type": "code",
      "source": [
        "plt.plot(distancias)"
      ],
      "metadata": {
        "colab": {
          "base_uri": "https://localhost:8080/",
          "height": 282
        },
        "id": "3YwnH7eGJIZe",
        "outputId": "7d30581d-a7c6-4ab5-fe1e-0551c28624aa"
      },
      "id": "3YwnH7eGJIZe",
      "execution_count": 20,
      "outputs": [
        {
          "output_type": "execute_result",
          "data": {
            "text/plain": [
              "[<matplotlib.lines.Line2D at 0x7f4e650bf190>]"
            ]
          },
          "metadata": {},
          "execution_count": 20
        },
        {
          "output_type": "display_data",
          "data": {
            "text/plain": [
              "<Figure size 432x288 with 1 Axes>"
            ],
            "image/png": "[encoded data removed]"
          },
          "metadata": {
            "needs_background": "light"
          }
        }
      ]
    },
    {
      "cell_type": "code",
      "source": [
        "print(r)"
      ],
      "metadata": {
        "colab": {
          "base_uri": "https://localhost:8080/"
        },
        "id": "Jp3Q6R6HJMKR",
        "outputId": "38cb61bc-2192-49c1-d5f2-025455633192"
      },
      "id": "Jp3Q6R6HJMKR",
      "execution_count": 21,
      "outputs": [
        {
          "output_type": "stream",
          "name": "stdout",
          "text": [
            "[ 0.49814468 -0.1996059  -0.52882598]\n"
          ]
        }
      ]
    }
  ],
  "metadata": {
    "kernelspec": {
      "display_name": "Python 3 (ipykernel)",
      "language": "python",
      "name": "python3"
    },
    "language_info": {
      "codemirror_mode": {
        "name": "ipython",
        "version": 3
      },
      "file_extension": ".py",
      "mimetype": "text/x-python",
      "name": "python",
      "nbconvert_exporter": "python",
      "pygments_lexer": "ipython3",
      "version": "3.9.12"
    },
    "colab": {
      "provenance": []
    }
  },
  "nbformat": 4,
  "nbformat_minor": 5
}