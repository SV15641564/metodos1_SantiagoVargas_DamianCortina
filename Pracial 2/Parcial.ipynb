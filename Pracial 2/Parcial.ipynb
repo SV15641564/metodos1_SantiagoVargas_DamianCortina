{
  "nbformat": 4,
  "nbformat_minor": 0,
  "metadata": {
    "colab": {
      "provenance": []
    },
    "kernelspec": {
      "name": "python3",
      "display_name": "Python 3"
    },
    "language_info": {
      "name": "python"
    }
  },
  "cells": [
    {
      "cell_type": "code",
      "source": [
        "import numpy as np"
      ],
      "metadata": {
        "id": "JWAhTi6Ekbiv"
      },
      "execution_count": 5,
      "outputs": []
    },
    {
      "cell_type": "code",
      "source": [
        "A = np.array([[1,1,1,1], [1,-1,1,-1], [1,-1,-1,1], [1,1,-1,-1]])\n",
        "B = np.array([1, 2,0.5, 0.3])\n",
        "X = np.linalg.solve(A,B)\n",
        "\n",
        "print(X)"
      ],
      "metadata": {
        "colab": {
          "base_uri": "https://localhost:8080/"
        },
        "id": "5u3usMthkZ9X",
        "outputId": "61691213-4ea5-4344-b96d-497d99eba218"
      },
      "execution_count": 8,
      "outputs": [
        {
          "output_type": "stream",
          "name": "stdout",
          "text": [
            "[ 0.95 -0.3   0.55 -0.2 ]\n"
          ]
        }
      ]
    }
  ]
}
