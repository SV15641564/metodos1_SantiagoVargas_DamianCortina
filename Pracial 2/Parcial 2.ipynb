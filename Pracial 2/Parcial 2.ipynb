{
  "nbformat": 4,
  "nbformat_minor": 0,
  "metadata": {
    "colab": {
      "provenance": []
    },
    "kernelspec": {
      "name": "python3",
      "display_name": "Python 3"
    },
    "language_info": {
      "name": "python"
    }
  },
  "cells": [
    {
      "cell_type": "code",
      "source": [
        "import numpy as np"
      ],
      "metadata": {
        "id": "JWAhTi6Ekbiv"
      },
      "execution_count": 18,
      "outputs": []
    },
    {
      "cell_type": "code",
      "source": [
        "A = np.array([[1,1,1,1], [1,-1,1,-1], [1,-1,-1,1], [1,1,-1,-1]])\n",
        "B = np.array([1, 2,0.5, 0.3])\n",
        "X = np.linalg.solve(A,B)\n",
        "\n",
        "print(X)"
      ],
      "metadata": {
        "colab": {
          "base_uri": "https://localhost:8080/"
        },
        "id": "5u3usMthkZ9X",
        "outputId": "d3463674-ea66-4396-dc41-f6877aabaac2"
      },
      "execution_count": 19,
      "outputs": [
        {
          "output_type": "stream",
          "name": "stdout",
          "text": [
            "[ 0.95 -0.3   0.55 -0.2 ]\n"
          ]
        }
      ]
    },
    {
      "cell_type": "code",
      "source": [
        "def Function(x,y):\n",
        "  ans= (0.95)-(0.3*x)+(0.55*y)-(0.2*x*y)\n",
        "  return ans"
      ],
      "metadata": {
        "id": "KE09d54RmcmF"
      },
      "execution_count": 20,
      "outputs": []
    },
    {
      "cell_type": "code",
      "source": [
        "Function(0,0.5)"
      ],
      "metadata": {
        "colab": {
          "base_uri": "https://localhost:8080/"
        },
        "id": "TxpNxrQqnGOz",
        "outputId": "526f4978-a8a6-4171-d1de-6ebe1d7cf1b8"
      },
      "execution_count": 21,
      "outputs": [
        {
          "output_type": "execute_result",
          "data": {
            "text/plain": [
              "1.225"
            ]
          },
          "metadata": {},
          "execution_count": 21
        }
      ]
    }
  ]
}