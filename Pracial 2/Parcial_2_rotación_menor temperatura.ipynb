{
  "nbformat": 4,
  "nbformat_minor": 0,
  "metadata": {
    "colab": {
      "provenance": []
    },
    "kernelspec": {
      "name": "python3",
      "display_name": "Python 3"
    },
    "language_info": {
      "name": "python"
    }
  },
  "cells": [
    {
      "cell_type": "code",
      "source": [
        "import numpy as np"
      ],
      "metadata": {
        "id": "R5HJ6o6GUR3U"
      },
      "execution_count": 78,
      "outputs": []
    },
    {
      "cell_type": "code",
      "source": [
        "def Function(x,y):\n",
        "  ans= (0.95)-(0.3*x)+(0.55*y)-(0.2*x*y)\n",
        "  return ans\n",
        "\n",
        "#Se demuestra cómo hallar los coeficientes en el archivo Parcial 2\n",
        "#Hacer la interpolación de toda la función equivale a rotar el punto y evaluarlo."
      ],
      "metadata": {
        "id": "Ye9uQX9qrJER"
      },
      "execution_count": 90,
      "outputs": []
    },
    {
      "cell_type": "code",
      "source": [
        "theta = np.linspace(0,2*np.pi,200)\n",
        "def mr(theta):\n",
        "  return np.array([[np.cos(theta),-np.sin(theta)],[np.sin(theta),np.cos(theta)]])"
      ],
      "metadata": {
        "id": "I2vRpjtvo7I4"
      },
      "execution_count": 91,
      "outputs": []
    },
    {
      "cell_type": "code",
      "source": [
        "menor = []\n",
        "for i in range(len(theta)):\n",
        "  r1,r2 = mr(theta[i])@np.array([0,0.5])\n",
        "  menor.append(Function(round(r1,10),round(r2,10)))\n",
        "print( min(menor))\n",
        "  "
      ],
      "metadata": {
        "colab": {
          "base_uri": "https://localhost:8080/"
        },
        "id": "8cREtpRjpYhD",
        "outputId": "176f145e-5e55-438a-ee2c-5c83c32ea1ad"
      },
      "execution_count": 95,
      "outputs": [
        {
          "output_type": "stream",
          "name": "stdout",
          "text": [
            "0.6562127209800772\n"
          ]
        }
      ]
    }
  ]
}