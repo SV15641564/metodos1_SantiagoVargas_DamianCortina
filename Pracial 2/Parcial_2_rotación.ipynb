{
  "nbformat": 4,
  "nbformat_minor": 0,
  "metadata": {
    "colab": {
      "provenance": []
    },
    "kernelspec": {
      "name": "python3",
      "display_name": "Python 3"
    },
    "language_info": {
      "name": "python"
    }
  },
  "cells": [
    {
      "cell_type": "code",
      "source": [
        "import numpy as np"
      ],
      "metadata": {
        "id": "R5HJ6o6GUR3U"
      },
      "execution_count": 78,
      "outputs": []
    },
    {
      "cell_type": "code",
      "source": [
        "theta = np.pi\n",
        "mr = np.array([[np.cos(theta),-np.sin(theta)],[np.sin(theta),np.cos(theta)]])"
      ],
      "metadata": {
        "id": "I2vRpjtvo7I4"
      },
      "execution_count": 79,
      "outputs": []
    },
    {
      "cell_type": "code",
      "source": [
        "r1,r2 = mr@np.array([0,0.5])"
      ],
      "metadata": {
        "id": "8cREtpRjpYhD"
      },
      "execution_count": 80,
      "outputs": []
    },
    {
      "cell_type": "code",
      "source": [
        "def Function(x,y):\n",
        "  ans= (0.95)-(0.3*x)+(0.55*y)-(0.2*x*y)\n",
        "  return ans\n",
        "\n",
        "#Se demuestra cómo hallar los coeficientes en el archivo Parcial 2\n",
        "#Hacer la interpolación de toda la función equivale a rotar el punto y evaluarlo."
      ],
      "metadata": {
        "id": "Ye9uQX9qrJER"
      },
      "execution_count": 81,
      "outputs": []
    },
    {
      "cell_type": "code",
      "source": [
        "Function(round(r1,10),round(r2,10))"
      ],
      "metadata": {
        "id": "oB6UqkC_rQ-C",
        "outputId": "e98842d1-ac2d-4f08-ffbe-21e4c7b7efd5",
        "colab": {
          "base_uri": "https://localhost:8080/"
        }
      },
      "execution_count": 82,
      "outputs": [
        {
          "output_type": "execute_result",
          "data": {
            "text/plain": [
              "0.6749999999999999"
            ]
          },
          "metadata": {},
          "execution_count": 82
        }
      ]
    }
  ]
}