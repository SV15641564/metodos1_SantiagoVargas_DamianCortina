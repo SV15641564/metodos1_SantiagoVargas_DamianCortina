{
  "cells": [
    {
      "cell_type": "code",
      "execution_count": null,
      "id": "22685be3",
      "metadata": {
        "id": "22685be3"
      },
      "outputs": [],
      "source": [
        "import numpy as np\n",
        "import matplotlib.pyplot as plt"
      ]
    },
    {
      "cell_type": "markdown",
      "source": [
        "El siguiente código tiene la función de clasificar un número aleatorio en una urna y, posteriormente, determinar el color de la bola escogida de acuerdo con su probailidad."
      ],
      "metadata": {
        "id": "KxklhW0vECud"
      },
      "id": "KxklhW0vECud"
    },
    {
      "cell_type": "code",
      "execution_count": null,
      "id": "0ecb1112",
      "metadata": {
        "id": "0ecb1112",
        "outputId": "7c6288a1-a0d7-4e6d-e831-5168101b4fa9"
      },
      "outputs": [
        {
          "data": {
            "text/plain": [
              "array([0.3, 0.4, 1. ])"
            ]
          },
          "execution_count": 3,
          "metadata": {},
          "output_type": "execute_result"
        }
      ],
      "source": [
        "PU1=np.array([3/10,1/10,6/10])\n",
        "F1=np.cumsum(PU1)#array([3/10,4/10,1])\n",
        "F1"
      ]
    },
    {
      "cell_type": "markdown",
      "source": [
        "Usando \"cumsum\" se suman los valores en del array PU1 que hacen referencia a las proabilidades dadas para la urna 1 y urna 2. Esto para determinar el color de la bola de acuerdo a el lugar en el rango escogido. Primero se determina un valor aleatorio usando random para determinar la urna y luego se determina un segundo valor aleatorio para ubicar la pelota dentro del array con las probabilidades (en decimales) de las bolas de la urna correspondiente. Haciendo esto se puede saber el color de la pelota dependiendo de su ubicación en el array. A el color se le asigna un número que posteriormente se reemplazará en un array de ceros. Al hacer el histograma y cambiar los números por los colores se obtiene un gráfico con las probabilidades según el color que concuerda con la probabilidad esperada.\n",
        "\n",
        "Es importante recalcar que entre más iteraciones más exacto (cercano a lo esperado) el histograma por teoría de Grandes Números."
      ],
      "metadata": {
        "id": "l1PcDd57EoUD"
      },
      "id": "l1PcDd57EoUD"
    },
    {
      "cell_type": "code",
      "execution_count": null,
      "id": "058d21d8",
      "metadata": {
        "id": "058d21d8",
        "outputId": "22a87206-0aa9-4ec6-e342-325e7a3ad437"
      },
      "outputs": [
        {
          "name": "stdout",
          "output_type": "stream",
          "text": [
            "0.3679806100752484\n"
          ]
        }
      ],
      "source": [
        "X=np.random.rand()\n",
        "print(X)\n",
        "#"
      ]
    },
    {
      "cell_type": "code",
      "execution_count": null,
      "id": "b0462198",
      "metadata": {
        "id": "b0462198"
      },
      "outputs": [],
      "source": [
        "n=np.searchsorted(F1,X)"
      ]
    },
    {
      "cell_type": "code",
      "execution_count": null,
      "id": "c2337deb",
      "metadata": {
        "id": "c2337deb",
        "outputId": "83f80778-45af-46a0-cc61-bd88d1175b1e"
      },
      "outputs": [
        {
          "data": {
            "text/plain": [
              "array([[0.3, 0.1, 0.6],\n",
              "       [0.6, 0.2, 0.2]])"
            ]
          },
          "execution_count": 15,
          "metadata": {},
          "output_type": "execute_result"
        }
      ],
      "source": [
        "PU=np.array([1/3,2/3])\n",
        "FU=np.cumsum(PU)\n",
        "PU1=np.array([3/10,1/10,6/10])\n",
        "PU2=np.array([6/10,2/10,2/10])\n",
        "P=np.array([PU1,PU2])\n",
        "P"
      ]
    },
    {
      "cell_type": "code",
      "execution_count": null,
      "id": "92457db7",
      "metadata": {
        "id": "92457db7",
        "outputId": "55d2dd38-baaa-4b94-b09a-59bd50bb087d"
      },
      "outputs": [
        {
          "data": {
            "text/plain": [
              "array([0.33333333, 1.        ])"
            ]
          },
          "execution_count": 24,
          "metadata": {},
          "output_type": "execute_result"
        }
      ],
      "source": [
        "FU"
      ]
    },
    {
      "cell_type": "code",
      "execution_count": null,
      "id": "7de51a5a",
      "metadata": {
        "id": "7de51a5a",
        "outputId": "0690c7dc-d03e-4eee-9f0b-dc7504febe66"
      },
      "outputs": [
        {
          "data": {
            "text/plain": [
              "0.940199620287579"
            ]
          },
          "execution_count": 25,
          "metadata": {},
          "output_type": "execute_result"
        }
      ],
      "source": [
        "x1"
      ]
    },
    {
      "cell_type": "code",
      "execution_count": null,
      "id": "7d40d659",
      "metadata": {
        "id": "7d40d659",
        "outputId": "edd78cda-9474-490c-ff08-79f825dd856e"
      },
      "outputs": [
        {
          "data": {
            "text/plain": [
              "array([[0.3, 0.4, 1. ],\n",
              "       [0.6, 0.8, 1. ]])"
            ]
          },
          "execution_count": 46,
          "metadata": {},
          "output_type": "execute_result"
        }
      ],
      "source": [
        "F=np.cumsum(P,axis=1)\n",
        "F"
      ]
    },
    {
      "cell_type": "code",
      "execution_count": null,
      "id": "f09817ea",
      "metadata": {
        "id": "f09817ea"
      },
      "outputs": [],
      "source": [
        "color=np.zeros(1000)\n",
        "for i,(x1,x2) in enumerate(np.random.rand(1000,2)):\n",
        "    num_urna=np.searchsorted(FU,x1)\n",
        "    color[i]=np.searchsorted(F[num_urna],x2)"
      ]
    },
    {
      "cell_type": "code",
      "execution_count": null,
      "id": "e327d565",
      "metadata": {
        "id": "e327d565",
        "outputId": "864580a1-b619-4793-b8aa-2b5e176b9630"
      },
      "outputs": [
        {
          "name": "stdout",
          "output_type": "stream",
          "text": [
            "[1. 2. 2. 2. 1. 2. 2. 2. 0. 1. 2. 0. 2. 1. 0. 0. 2. 2. 0. 2. 2. 0. 0. 0.\n",
            " 1. 0. 0. 0. 1. 0. 2. 1. 0. 0. 0. 2. 0. 1. 0. 1. 2. 1. 2. 2. 2. 0. 0. 2.\n",
            " 0. 0. 2. 0. 0. 0. 2. 2. 0. 1. 2. 2. 2. 1. 1. 1. 2. 0. 2. 0. 0. 0. 0. 2.\n",
            " 2. 1. 2. 2. 2. 0. 1. 2. 2. 0. 1. 1. 1. 0. 2. 2. 2. 1. 2. 0. 2. 2. 0. 0.\n",
            " 0. 2. 0. 2. 1. 2. 0. 0. 2. 2. 0. 2. 0. 0. 0. 2. 2. 0. 2. 0. 2. 0. 2. 0.\n",
            " 1. 0. 2. 1. 2. 0. 0. 1. 1. 0. 0. 2. 2. 2. 1. 1. 1. 0. 0. 0. 0. 1. 2. 0.\n",
            " 1. 0. 0. 2. 1. 0. 0. 0. 1. 0. 2. 2. 0. 0. 2. 1. 2. 2. 0. 2. 0. 0. 2. 0.\n",
            " 2. 0. 0. 1. 1. 2. 0. 2. 0. 0. 0. 0. 0. 2. 1. 0. 2. 0. 0. 0. 0. 0. 2. 0.\n",
            " 2. 2. 2. 1. 2. 0. 0. 1. 1. 1. 0. 0. 0. 0. 0. 2. 0. 2. 1. 2. 1. 0. 2. 0.\n",
            " 0. 0. 1. 2. 0. 1. 2. 2. 2. 0. 1. 1. 0. 2. 0. 2. 1. 1. 1. 2. 2. 0. 0. 1.\n",
            " 2. 1. 1. 2. 1. 2. 2. 2. 0. 0. 0. 0. 2. 2. 2. 1. 0. 0. 1. 0. 1. 0. 1. 0.\n",
            " 1. 0. 1. 0. 0. 2. 0. 2. 2. 0. 0. 0. 2. 2. 0. 0. 0. 2. 1. 0. 0. 0. 1. 1.\n",
            " 1. 0. 0. 1. 0. 0. 1. 2. 2. 0. 0. 0. 0. 2. 2. 1. 0. 2. 2. 0. 0. 1. 1. 0.\n",
            " 2. 2. 2. 2. 2. 0. 2. 0. 0. 1. 0. 0. 0. 0. 1. 0. 0. 2. 0. 2. 2. 2. 2. 2.\n",
            " 0. 2. 2. 2. 2. 2. 1. 2. 0. 0. 0. 0. 2. 0. 0. 0. 0. 0. 1. 0. 2. 0. 2. 1.\n",
            " 0. 1. 2. 1. 0. 2. 2. 1. 2. 0. 0. 0. 0. 0. 0. 0. 0. 2. 2. 0. 1. 0. 2. 1.\n",
            " 0. 2. 0. 0. 1. 2. 2. 0. 0. 0. 1. 2. 1. 0. 0. 0. 0. 1. 0. 0. 0. 1. 0. 2.\n",
            " 0. 1. 2. 2. 2. 2. 2. 1. 0. 0. 0. 0. 0. 2. 0. 2. 0. 0. 0. 2. 2. 2. 1. 1.\n",
            " 0. 0. 0. 0. 2. 2. 0. 0. 0. 2. 0. 0. 2. 0. 0. 0. 0. 1. 2. 0. 1. 0. 0. 2.\n",
            " 2. 0. 2. 0. 1. 0. 0. 2. 0. 0. 0. 2. 0. 2. 0. 2. 0. 1. 2. 1. 0. 1. 2. 0.\n",
            " 0. 1. 0. 2. 1. 2. 1. 0. 2. 0. 2. 0. 1. 1. 0. 0. 0. 2. 2. 2. 2. 2. 2. 0.\n",
            " 0. 0. 0. 1. 1. 2. 1. 2. 2. 0. 1. 0. 0. 2. 0. 0. 0. 0. 0. 0. 0. 2. 1. 1.\n",
            " 0. 0. 0. 2. 0. 0. 2. 0. 2. 0. 2. 0. 0. 2. 2. 2. 2. 0. 1. 1. 0. 0. 2. 2.\n",
            " 0. 1. 0. 2. 1. 0. 2. 0. 1. 2. 2. 1. 0. 0. 0. 2. 1. 0. 2. 0. 1. 0. 1. 1.\n",
            " 0. 2. 2. 0. 0. 0. 0. 0. 1. 0. 1. 2. 2. 2. 0. 0. 0. 0. 2. 0. 0. 0. 2. 0.\n",
            " 1. 2. 0. 1. 0. 2. 2. 2. 0. 2. 2. 2. 0. 0. 2. 2. 0. 1. 0. 0. 2. 0. 0. 0.\n",
            " 2. 2. 1. 0. 0. 2. 2. 0. 2. 2. 0. 2. 0. 2. 2. 1. 0. 2. 0. 0. 0. 0. 0. 0.\n",
            " 2. 0. 0. 1. 1. 1. 2. 1. 0. 2. 0. 0. 0. 2. 0. 0. 0. 0. 2. 0. 2. 0. 0. 2.\n",
            " 0. 0. 1. 0. 2. 0. 0. 2. 0. 0. 2. 0. 1. 0. 1. 1. 2. 1. 2. 0. 0. 1. 0. 2.\n",
            " 0. 0. 2. 2. 0. 0. 0. 0. 0. 2. 0. 0. 2. 0. 2. 2. 2. 0. 0. 2. 2. 1. 2. 2.\n",
            " 0. 2. 0. 0. 1. 2. 2. 1. 0. 0. 1. 1. 1. 2. 0. 2. 1. 0. 0. 0. 0. 0. 2. 0.\n",
            " 2. 2. 0. 0. 0. 1. 2. 0. 2. 2. 2. 1. 0. 2. 0. 0. 1. 0. 0. 2. 0. 0. 0. 2.\n",
            " 0. 0. 0. 0. 0. 0. 1. 1. 0. 0. 1. 1. 2. 2. 0. 0. 2. 0. 1. 0. 2. 0. 0. 1.\n",
            " 0. 2. 0. 2. 2. 0. 0. 0. 0. 2. 0. 1. 0. 0. 0. 0. 2. 2. 0. 0. 0. 0. 0. 2.\n",
            " 2. 2. 0. 2. 1. 2. 0. 2. 2. 2. 2. 0. 0. 2. 0. 2. 2. 2. 0. 2. 2. 2. 1. 2.\n",
            " 0. 2. 0. 0. 1. 0. 0. 0. 2. 0. 2. 2. 0. 0. 2. 2. 2. 0. 0. 0. 1. 0. 0. 1.\n",
            " 0. 0. 2. 2. 2. 2. 0. 2. 0. 1. 1. 0. 0. 1. 0. 0. 2. 0. 1. 1. 0. 0. 2. 1.\n",
            " 2. 0. 2. 0. 0. 2. 2. 0. 2. 0. 2. 2. 2. 0. 0. 0. 0. 2. 0. 1. 1. 1. 0. 0.\n",
            " 0. 2. 1. 0. 0. 1. 0. 2. 1. 0. 0. 0. 1. 0. 0. 1. 1. 2. 0. 2. 2. 0. 1. 0.\n",
            " 0. 2. 0. 1. 0. 0. 0. 2. 2. 0. 2. 0. 2. 2. 1. 2. 1. 2. 0. 2. 2. 0. 0. 2.\n",
            " 0. 0. 2. 1. 1. 2. 1. 0. 0. 2. 0. 2. 0. 0. 0. 0. 0. 2. 2. 0. 2. 0. 0. 1.\n",
            " 0. 1. 0. 0. 0. 1. 2. 1. 2. 2. 1. 1. 2. 0. 0. 0.]\n"
          ]
        }
      ],
      "source": [
        "print(color)"
      ]
    },
    {
      "cell_type": "code",
      "execution_count": null,
      "id": "5c5bf930",
      "metadata": {
        "id": "5c5bf930",
        "outputId": "18400d54-c365-4ca9-c0e6-b06b27f8dc42"
      },
      "outputs": [
        {
          "data": {
            "text/plain": [
              "(array([0.481, 0.181, 0.338]),\n",
              " array([0, 1, 2, 3]),\n",
              " <BarContainer object of 3 artists>)"
            ]
          },
          "execution_count": 39,
          "metadata": {},
          "output_type": "execute_result"
        },
        {
          "data": {
            "image/png": "[encoded data removed]",
            "text/plain": [
              "<Figure size 432x288 with 1 Axes>"
            ]
          },
          "metadata": {
            "needs_background": "light"
          },
          "output_type": "display_data"
        }
      ],
      "source": [
        "plt.hist(color,bins=[0,1,2,3],density=True)"
      ]
    },
    {
      "cell_type": "code",
      "execution_count": null,
      "id": "fc9c0392",
      "metadata": {
        "id": "fc9c0392"
      },
      "outputs": [],
      "source": [
        "nombres = {0:\"Rojo\",1:\"Negro\",2:\"Verde\"}"
      ]
    },
    {
      "cell_type": "code",
      "execution_count": null,
      "id": "7cc00098",
      "metadata": {
        "id": "7cc00098",
        "outputId": "285f529f-cc30-4b6a-bc31-e5341de4c527"
      },
      "outputs": [
        {
          "data": {
            "text/plain": [
              "(array([181.,   0.,   0.,   0.,   0., 338.,   0.,   0.,   0., 481.]),\n",
              " array([0. , 0.2, 0.4, 0.6, 0.8, 1. , 1.2, 1.4, 1.6, 1.8, 2. ]),\n",
              " <BarContainer object of 10 artists>)"
            ]
          },
          "execution_count": 44,
          "metadata": {},
          "output_type": "execute_result"
        },
        {
          "data": {
            "image/png": "[encoded data removed]",
            "text/plain": [
              "<Figure size 432x288 with 1 Axes>"
            ]
          },
          "metadata": {
            "needs_background": "light"
          },
          "output_type": "display_data"
        }
      ],
      "source": [
        "plt.hist([nombres[x] for x in color])"
      ]
    },
    {
      "cell_type": "code",
      "execution_count": null,
      "id": "5429a51c",
      "metadata": {
        "id": "5429a51c"
      },
      "outputs": [],
      "source": []
    }
  ],
  "metadata": {
    "kernelspec": {
      "display_name": "Python 3 (ipykernel)",
      "language": "python",
      "name": "python3"
    },
    "language_info": {
      "codemirror_mode": {
        "name": "ipython",
        "version": 3
      },
      "file_extension": ".py",
      "mimetype": "text/x-python",
      "name": "python",
      "nbconvert_exporter": "python",
      "pygments_lexer": "ipython3",
      "version": "3.9.12"
    },
    "colab": {
      "provenance": [],
      "collapsed_sections": []
    }
  },
  "nbformat": 4,
  "nbformat_minor": 5
}